{
 "cells": [
  {
   "cell_type": "markdown",
   "metadata": {},
   "source": [
    "# Example for using the Metric Class\n",
    "\n",
    "In this notebook we will see how `Metric` and `MetricsList` Classes work\n",
    "\n"
   ]
  },
  {
   "cell_type": "markdown",
   "metadata": {},
   "source": [
    "### To install this library:"
   ]
  },
  {
   "cell_type": "code",
   "execution_count": 1,
   "metadata": {
    "scrolled": true
   },
   "outputs": [
    {
     "name": "stdout",
     "output_type": "stream",
     "text": [
      "Looking in indexes: https://pypi.org/simple, https://packagecloud.io/github/git-lfs/pypi/simple\n",
      "Collecting https://github.com/4n4nd/prometheus-api-client-python/zipball/v0.0.2\n",
      "\u001b[?25l  Downloading https://github.com/4n4nd/prometheus-api-client-python/zipball/v0.0.2\n",
      "\u001b[K     \\ 512kB 4.2MB/s\n",
      "\u001b[?25hRequirement already satisfied (use --upgrade to upgrade): prometheus-api-client==0.0.2b3 from https://github.com/4n4nd/prometheus-api-client-python/zipball/v0.0.2 in /home/anand/miniconda3/lib/python3.7/site-packages\n",
      "Requirement already satisfied: retrying in /home/anand/miniconda3/lib/python3.7/site-packages (from prometheus-api-client==0.0.2b3) (1.3.3)\n",
      "Requirement already satisfied: requests in /home/anand/miniconda3/lib/python3.7/site-packages (from prometheus-api-client==0.0.2b3) (2.21.0)\n",
      "Requirement already satisfied: dateparser in /home/anand/miniconda3/lib/python3.7/site-packages (from prometheus-api-client==0.0.2b3) (0.7.1)\n",
      "Requirement already satisfied: pandas in /home/anand/miniconda3/lib/python3.7/site-packages (from prometheus-api-client==0.0.2b3) (0.24.2)\n",
      "Requirement already satisfied: six>=1.7.0 in /home/anand/miniconda3/lib/python3.7/site-packages (from retrying->prometheus-api-client==0.0.2b3) (1.12.0)\n",
      "Requirement already satisfied: certifi>=2017.4.17 in /home/anand/miniconda3/lib/python3.7/site-packages (from requests->prometheus-api-client==0.0.2b3) (2019.6.16)\n",
      "Requirement already satisfied: idna<2.9,>=2.5 in /home/anand/miniconda3/lib/python3.7/site-packages (from requests->prometheus-api-client==0.0.2b3) (2.8)\n",
      "Requirement already satisfied: urllib3<1.25,>=1.21.1 in /home/anand/miniconda3/lib/python3.7/site-packages (from requests->prometheus-api-client==0.0.2b3) (1.24.1)\n",
      "Requirement already satisfied: chardet<3.1.0,>=3.0.2 in /home/anand/miniconda3/lib/python3.7/site-packages (from requests->prometheus-api-client==0.0.2b3) (3.0.4)\n",
      "Requirement already satisfied: regex in /home/anand/miniconda3/lib/python3.7/site-packages (from dateparser->prometheus-api-client==0.0.2b3) (2019.3.12)\n",
      "Requirement already satisfied: tzlocal in /home/anand/miniconda3/lib/python3.7/site-packages (from dateparser->prometheus-api-client==0.0.2b3) (1.5.1)\n",
      "Requirement already satisfied: pytz in /home/anand/miniconda3/lib/python3.7/site-packages (from dateparser->prometheus-api-client==0.0.2b3) (2018.9)\n",
      "Requirement already satisfied: python-dateutil in /home/anand/miniconda3/lib/python3.7/site-packages (from dateparser->prometheus-api-client==0.0.2b3) (2.7.5)\n",
      "Requirement already satisfied: numpy>=1.12.0 in /home/anand/miniconda3/lib/python3.7/site-packages (from pandas->prometheus-api-client==0.0.2b3) (1.16.4)\n",
      "Building wheels for collected packages: prometheus-api-client\n",
      "  Building wheel for prometheus-api-client (setup.py) ... \u001b[?25ldone\n",
      "\u001b[?25h  Stored in directory: /tmp/pip-ephem-wheel-cache-si8ss22n/wheels/c7/23/9a/056a73f49046d4d046c4aab35ae77dd45343d216d5c92ee790\n",
      "Successfully built prometheus-api-client\n",
      "Looking in indexes: https://pypi.org/simple, https://packagecloud.io/github/git-lfs/pypi/simple\n",
      "Requirement already satisfied: matplotlib in /home/anand/miniconda3/lib/python3.7/site-packages (3.1.0)\n",
      "Requirement already satisfied: pyparsing!=2.0.4,!=2.1.2,!=2.1.6,>=2.0.1 in /home/anand/miniconda3/lib/python3.7/site-packages (from matplotlib) (2.3.1)\n",
      "Requirement already satisfied: numpy>=1.11 in /home/anand/miniconda3/lib/python3.7/site-packages (from matplotlib) (1.16.4)\n",
      "Requirement already satisfied: kiwisolver>=1.0.1 in /home/anand/miniconda3/lib/python3.7/site-packages (from matplotlib) (1.1.0)\n",
      "Requirement already satisfied: cycler>=0.10 in /home/anand/miniconda3/lib/python3.7/site-packages (from matplotlib) (0.10.0)\n",
      "Requirement already satisfied: python-dateutil>=2.1 in /home/anand/miniconda3/lib/python3.7/site-packages (from matplotlib) (2.7.5)\n",
      "Requirement already satisfied: setuptools in /home/anand/miniconda3/lib/python3.7/site-packages (from kiwisolver>=1.0.1->matplotlib) (41.0.1)\n",
      "Requirement already satisfied: six in /home/anand/miniconda3/lib/python3.7/site-packages (from cycler>=0.10->matplotlib) (1.12.0)\n"
     ]
    }
   ],
   "source": [
    "!pip install https://github.com/4n4nd/prometheus-api-client-python/zipball/v0.0.2\n",
    "\n",
    "!pip install matplotlib"
   ]
  },
  {
   "cell_type": "code",
   "execution_count": 2,
   "metadata": {
    "scrolled": true
   },
   "outputs": [],
   "source": [
    "from prometheus_api_client import Metric, MetricsList, PrometheusConnect\n",
    "from prometheus_api_client.utils import parse_datetime, parse_timedelta\n",
    "\n",
    "import matplotlib.pyplot as plt\n",
    "%matplotlib inline"
   ]
  },
  {
   "cell_type": "markdown",
   "metadata": {},
   "source": [
    "After importing all the necessary modules, we can start with collecting some data from a prometheus host"
   ]
  },
  {
   "cell_type": "markdown",
   "metadata": {},
   "source": [
    "Lets create a `PrometheusConnect` object which stores the connection parameters"
   ]
  },
  {
   "cell_type": "code",
   "execution_count": 3,
   "metadata": {},
   "outputs": [],
   "source": [
    "pc = PrometheusConnect(url=\"http://prometheus-route-aiops-prod-prometheus-predict.cloud.paas.psi.redhat.com\", disable_ssl=True)"
   ]
  },
  {
   "cell_type": "markdown",
   "metadata": {},
   "source": [
    "Now we make a query which collects the past 3 days of a specific metric (`'badger_disk_writes:rate1m_Fourier'`) in chunks of 1 day\n",
    "\n",
    "The specific query that we make matches 4 different metric time-series, so the data that we receive should have 4 different metrics in it"
   ]
  },
  {
   "cell_type": "code",
   "execution_count": 4,
   "metadata": {},
   "outputs": [],
   "source": [
    "# Major change from the previous version\n",
    "start_time = parse_datetime(\"3d\")\n",
    "end_time = parse_datetime(\"now\")\n",
    "chunk_size = parse_timedelta(\"now\", \"1d\")\n",
    "\n",
    "metric_data = pc.get_metric_range_data(\n",
    "    'badger_disk_writes:rate1m_Fourier{ae_source=\"https://prometheus-exporter-alpha-0.thoth-dgraph-stage.svc:8080/debug/prometheus_metrics\",instance=\"prometheus-aggregate-exporter-thoth-dgraph-stage.cloud.paas.psi.redhat.com:80\",job=\"Thoth Dgraph aggregate-exporter (stage)\",monitor=\"datahub\"}',\n",
    "    start_time=start_time,\n",
    "    end_time=end_time,\n",
    "    chunk_size=chunk_size,\n",
    ")"
   ]
  },
  {
   "cell_type": "code",
   "execution_count": 5,
   "metadata": {},
   "outputs": [
    {
     "data": {
      "text/plain": [
       "12"
      ]
     },
     "execution_count": 5,
     "metadata": {},
     "output_type": "execute_result"
    }
   ],
   "source": [
    "len(metric_data)"
   ]
  },
  {
   "cell_type": "markdown",
   "metadata": {},
   "source": [
    "We see 12 different items because it is 4 different metrics with 3 chunks for each, each chunk is 1 day of data"
   ]
  },
  {
   "cell_type": "code",
   "execution_count": 6,
   "metadata": {
    "scrolled": true
   },
   "outputs": [
    {
     "name": "stdout",
     "output_type": "stream",
     "text": [
      "{'__name__': 'badger_disk_writes:rate1m_Fourier', 'ae_source': 'https://prometheus-exporter-alpha-0.thoth-dgraph-stage.svc:8080/debug/prometheus_metrics', 'instance': 'prometheus-aggregate-exporter-thoth-dgraph-stage.cloud.paas.psi.redhat.com:80', 'job': 'Thoth Dgraph aggregate-exporter (stage)', 'monitor': 'datahub', 'value_type': 'anomaly'} \n",
      "\n",
      "{'__name__': 'badger_disk_writes:rate1m_Fourier', 'ae_source': 'https://prometheus-exporter-alpha-0.thoth-dgraph-stage.svc:8080/debug/prometheus_metrics', 'instance': 'prometheus-aggregate-exporter-thoth-dgraph-stage.cloud.paas.psi.redhat.com:80', 'job': 'Thoth Dgraph aggregate-exporter (stage)', 'monitor': 'datahub', 'value_type': 'yhat'} \n",
      "\n",
      "{'__name__': 'badger_disk_writes:rate1m_Fourier', 'ae_source': 'https://prometheus-exporter-alpha-0.thoth-dgraph-stage.svc:8080/debug/prometheus_metrics', 'instance': 'prometheus-aggregate-exporter-thoth-dgraph-stage.cloud.paas.psi.redhat.com:80', 'job': 'Thoth Dgraph aggregate-exporter (stage)', 'monitor': 'datahub', 'value_type': 'yhat_lower'} \n",
      "\n",
      "{'__name__': 'badger_disk_writes:rate1m_Fourier', 'ae_source': 'https://prometheus-exporter-alpha-0.thoth-dgraph-stage.svc:8080/debug/prometheus_metrics', 'instance': 'prometheus-aggregate-exporter-thoth-dgraph-stage.cloud.paas.psi.redhat.com:80', 'job': 'Thoth Dgraph aggregate-exporter (stage)', 'monitor': 'datahub', 'value_type': 'yhat_upper'} \n",
      "\n",
      "{'__name__': 'badger_disk_writes:rate1m_Fourier', 'ae_source': 'https://prometheus-exporter-alpha-0.thoth-dgraph-stage.svc:8080/debug/prometheus_metrics', 'instance': 'prometheus-aggregate-exporter-thoth-dgraph-stage.cloud.paas.psi.redhat.com:80', 'job': 'Thoth Dgraph aggregate-exporter (stage)', 'monitor': 'datahub', 'value_type': 'anomaly'} \n",
      "\n",
      "{'__name__': 'badger_disk_writes:rate1m_Fourier', 'ae_source': 'https://prometheus-exporter-alpha-0.thoth-dgraph-stage.svc:8080/debug/prometheus_metrics', 'instance': 'prometheus-aggregate-exporter-thoth-dgraph-stage.cloud.paas.psi.redhat.com:80', 'job': 'Thoth Dgraph aggregate-exporter (stage)', 'monitor': 'datahub', 'value_type': 'yhat'} \n",
      "\n",
      "{'__name__': 'badger_disk_writes:rate1m_Fourier', 'ae_source': 'https://prometheus-exporter-alpha-0.thoth-dgraph-stage.svc:8080/debug/prometheus_metrics', 'instance': 'prometheus-aggregate-exporter-thoth-dgraph-stage.cloud.paas.psi.redhat.com:80', 'job': 'Thoth Dgraph aggregate-exporter (stage)', 'monitor': 'datahub', 'value_type': 'yhat_lower'} \n",
      "\n",
      "{'__name__': 'badger_disk_writes:rate1m_Fourier', 'ae_source': 'https://prometheus-exporter-alpha-0.thoth-dgraph-stage.svc:8080/debug/prometheus_metrics', 'instance': 'prometheus-aggregate-exporter-thoth-dgraph-stage.cloud.paas.psi.redhat.com:80', 'job': 'Thoth Dgraph aggregate-exporter (stage)', 'monitor': 'datahub', 'value_type': 'yhat_upper'} \n",
      "\n",
      "{'__name__': 'badger_disk_writes:rate1m_Fourier', 'ae_source': 'https://prometheus-exporter-alpha-0.thoth-dgraph-stage.svc:8080/debug/prometheus_metrics', 'instance': 'prometheus-aggregate-exporter-thoth-dgraph-stage.cloud.paas.psi.redhat.com:80', 'job': 'Thoth Dgraph aggregate-exporter (stage)', 'monitor': 'datahub', 'value_type': 'anomaly'} \n",
      "\n",
      "{'__name__': 'badger_disk_writes:rate1m_Fourier', 'ae_source': 'https://prometheus-exporter-alpha-0.thoth-dgraph-stage.svc:8080/debug/prometheus_metrics', 'instance': 'prometheus-aggregate-exporter-thoth-dgraph-stage.cloud.paas.psi.redhat.com:80', 'job': 'Thoth Dgraph aggregate-exporter (stage)', 'monitor': 'datahub', 'value_type': 'yhat'} \n",
      "\n",
      "{'__name__': 'badger_disk_writes:rate1m_Fourier', 'ae_source': 'https://prometheus-exporter-alpha-0.thoth-dgraph-stage.svc:8080/debug/prometheus_metrics', 'instance': 'prometheus-aggregate-exporter-thoth-dgraph-stage.cloud.paas.psi.redhat.com:80', 'job': 'Thoth Dgraph aggregate-exporter (stage)', 'monitor': 'datahub', 'value_type': 'yhat_lower'} \n",
      "\n",
      "{'__name__': 'badger_disk_writes:rate1m_Fourier', 'ae_source': 'https://prometheus-exporter-alpha-0.thoth-dgraph-stage.svc:8080/debug/prometheus_metrics', 'instance': 'prometheus-aggregate-exporter-thoth-dgraph-stage.cloud.paas.psi.redhat.com:80', 'job': 'Thoth Dgraph aggregate-exporter (stage)', 'monitor': 'datahub', 'value_type': 'yhat_upper'} \n",
      "\n"
     ]
    }
   ],
   "source": [
    "for metric in metric_data:\n",
    "    print(metric[\"metric\"], \"\\n\")"
   ]
  },
  {
   "cell_type": "markdown",
   "metadata": {},
   "source": [
    "We can see that we received 3 chunks for each of the 4 metrics, these chunks make downloading data easier, but they are a little hard to keep track of.\n",
    "\n",
    "To keep track of multiple metrics each with multiple chunks distributed in a list, we created the `Metric` and `MetricsList` classes"
   ]
  },
  {
   "cell_type": "markdown",
   "metadata": {},
   "source": [
    "### How `MetricsList` works\n",
    "To combine the chunks for each metric, we can initialize a `MetricsList` object <br>\n",
    "It creates a list of `Metric` objects, where each object is unique for a specific time-series."
   ]
  },
  {
   "cell_type": "code",
   "execution_count": 7,
   "metadata": {},
   "outputs": [
    {
     "name": "stdout",
     "output_type": "stream",
     "text": [
      "4\n",
      "<class 'prometheus_api_client.metric.Metric'>\n",
      "<class 'prometheus_api_client.metric.Metric'>\n",
      "<class 'prometheus_api_client.metric.Metric'>\n",
      "<class 'prometheus_api_client.metric.Metric'>\n"
     ]
    }
   ],
   "source": [
    "metrics_object_list = MetricsList(metric_data)\n",
    "print(len(metrics_object_list))\n",
    "for item in metrics_object_list:\n",
    "    print(type(item))"
   ]
  },
  {
   "cell_type": "markdown",
   "metadata": {},
   "source": [
    "Above we can see that `metrics_object_list` has only 4 items and each item is a `Metric` object.\n"
   ]
  },
  {
   "cell_type": "code",
   "execution_count": 8,
   "metadata": {
    "scrolled": true
   },
   "outputs": [
    {
     "name": "stdout",
     "output_type": "stream",
     "text": [
      "badger_disk_writes:rate1m_Fourier {'ae_source': 'https://prometheus-exporter-alpha-0.thoth-dgraph-stage.svc:8080/debug/prometheus_metrics', 'instance': 'prometheus-aggregate-exporter-thoth-dgraph-stage.cloud.paas.psi.redhat.com:80', 'job': 'Thoth Dgraph aggregate-exporter (stage)', 'monitor': 'datahub', 'value_type': 'anomaly'} \n",
      "\n",
      "badger_disk_writes:rate1m_Fourier {'ae_source': 'https://prometheus-exporter-alpha-0.thoth-dgraph-stage.svc:8080/debug/prometheus_metrics', 'instance': 'prometheus-aggregate-exporter-thoth-dgraph-stage.cloud.paas.psi.redhat.com:80', 'job': 'Thoth Dgraph aggregate-exporter (stage)', 'monitor': 'datahub', 'value_type': 'yhat'} \n",
      "\n",
      "badger_disk_writes:rate1m_Fourier {'ae_source': 'https://prometheus-exporter-alpha-0.thoth-dgraph-stage.svc:8080/debug/prometheus_metrics', 'instance': 'prometheus-aggregate-exporter-thoth-dgraph-stage.cloud.paas.psi.redhat.com:80', 'job': 'Thoth Dgraph aggregate-exporter (stage)', 'monitor': 'datahub', 'value_type': 'yhat_lower'} \n",
      "\n",
      "badger_disk_writes:rate1m_Fourier {'ae_source': 'https://prometheus-exporter-alpha-0.thoth-dgraph-stage.svc:8080/debug/prometheus_metrics', 'instance': 'prometheus-aggregate-exporter-thoth-dgraph-stage.cloud.paas.psi.redhat.com:80', 'job': 'Thoth Dgraph aggregate-exporter (stage)', 'monitor': 'datahub', 'value_type': 'yhat_upper'} \n",
      "\n"
     ]
    }
   ],
   "source": [
    "for item in metrics_object_list:\n",
    "    print(item.metric_name, item.label_config, \"\\n\")"
   ]
  },
  {
   "cell_type": "markdown",
   "metadata": {},
   "source": [
    "All 4 items are unique metric time-series, none of them are repeated. \n",
    "\n",
    "The constructor for `MetricsList` combined all the chunks for each metric time-series in a single `Metric` object"
   ]
  },
  {
   "cell_type": "markdown",
   "metadata": {},
   "source": [
    "-----\n",
    "## More about the `Metric` class\n",
    "Let's look at one of the metrics from the `metrics_object_list` to learn more about the `Metric` class"
   ]
  },
  {
   "cell_type": "code",
   "execution_count": 9,
   "metadata": {},
   "outputs": [
    {
     "name": "stdout",
     "output_type": "stream",
     "text": [
      "<class 'prometheus_api_client.metric.Metric'>\n"
     ]
    }
   ],
   "source": [
    "my_metric_object = metrics_object_list[1] # one of the metrics from the list\n",
    "print(type(my_metric_object))"
   ]
  },
  {
   "cell_type": "markdown",
   "metadata": {},
   "source": [
    "What happens when we try to print the object?"
   ]
  },
  {
   "cell_type": "code",
   "execution_count": 10,
   "metadata": {
    "scrolled": true
   },
   "outputs": [
    {
     "name": "stdout",
     "output_type": "stream",
     "text": [
      "{\n",
      "metric_name: 'badger_disk_writes:rate1m_Fourier'\n",
      "label_config: {'ae_source': 'https://prometheus-exporter-alpha-0.thoth-dgraph-stage.svc:8080/debug/prometheus_metrics', 'instance': 'prometheus-aggregate-exporter-thoth-dgraph-stage.cloud.paas.psi.redhat.com:80', 'job': 'Thoth Dgraph aggregate-exporter (stage)', 'monitor': 'datahub', 'value_type': 'yhat'}\n",
      "metric_values:                                 ds         y\n",
      "0    2019-08-05 19:43:10.543999910  6.137609\n",
      "1    2019-08-05 19:44:10.542999983  6.139020\n",
      "2    2019-08-05 19:45:10.542999983  6.140434\n",
      "3    2019-08-05 19:46:10.542999983  6.141849\n",
      "4    2019-08-05 19:47:10.542999983  6.143267\n",
      "5    2019-08-05 19:48:10.542999983  6.144687\n",
      "6    2019-08-05 19:49:10.543999910  6.146109\n",
      "7    2019-08-05 19:50:10.542999983  6.147532\n",
      "8    2019-08-05 19:51:10.542999983  6.148958\n",
      "9    2019-08-05 19:52:10.542999983  6.150386\n",
      "10   2019-08-05 19:53:10.543999910  6.151816\n",
      "11   2019-08-05 19:54:10.542999983  6.153248\n",
      "12   2019-08-05 19:55:10.542999983  6.154681\n",
      "13   2019-08-05 19:56:10.542999983  6.156117\n",
      "14   2019-08-05 19:57:10.542999983  6.157555\n",
      "15   2019-08-05 19:58:10.542999983  6.158995\n",
      "16   2019-08-05 19:59:10.542999983  6.160437\n",
      "17   2019-08-05 20:00:10.542999983  6.161881\n",
      "18   2019-08-05 20:01:10.543999910  6.163326\n",
      "19   2019-08-05 20:02:10.542999983  6.164774\n",
      "20   2019-08-05 20:03:10.542999983  6.166224\n",
      "21   2019-08-05 20:04:10.542999983  6.167676\n",
      "22   2019-08-05 20:05:10.542999983  6.169129\n",
      "23   2019-08-05 20:06:10.542999983  6.191840\n",
      "24   2019-08-05 20:07:10.542999983  6.193175\n",
      "25   2019-08-05 20:08:10.543999910  6.194512\n",
      "26   2019-08-05 20:09:10.542999983  6.195851\n",
      "27   2019-08-05 20:10:10.542999983  6.197192\n",
      "28   2019-08-05 20:11:10.543999910  6.198534\n",
      "29   2019-08-05 20:12:10.542999983  6.199878\n",
      "...                            ...       ...\n",
      "4289 2019-08-08 19:13:10.543999910  6.034116\n",
      "4290 2019-08-08 19:14:10.542999983  6.034579\n",
      "4291 2019-08-08 19:15:10.542999983  6.035040\n",
      "4292 2019-08-08 19:16:10.542999983  6.035498\n",
      "4293 2019-08-08 19:17:10.542999983  6.035953\n",
      "4294 2019-08-08 19:18:10.542999983  6.036406\n",
      "4295 2019-08-08 19:19:10.543999910  6.036856\n",
      "4296 2019-08-08 19:20:10.542999983  6.037304\n",
      "4297 2019-08-08 19:21:10.542999983  6.037749\n",
      "4298 2019-08-08 19:22:10.542999983  6.038191\n",
      "4299 2019-08-08 19:23:10.542999983  6.038631\n",
      "4300 2019-08-08 19:24:10.542999983  6.039068\n",
      "4301 2019-08-08 19:25:10.542999983  6.039503\n",
      "4302 2019-08-08 19:26:10.542999983  6.039935\n",
      "4303 2019-08-08 19:27:10.542999983  6.040365\n",
      "4304 2019-08-08 19:28:10.542999983  6.040792\n",
      "4305 2019-08-08 19:29:10.542999983  6.041216\n",
      "4306 2019-08-08 19:30:10.542999983  6.041638\n",
      "4307 2019-08-08 19:31:10.542999983  6.042057\n",
      "4308 2019-08-08 19:32:10.543999910  6.042473\n",
      "4309 2019-08-08 19:33:10.542999983  6.042887\n",
      "4310 2019-08-08 19:34:10.542999983  6.043299\n",
      "4311 2019-08-08 19:35:10.542999983  6.043707\n",
      "4312 2019-08-08 19:36:10.542999983  6.044114\n",
      "4313 2019-08-08 19:37:10.543999910  6.044517\n",
      "4314 2019-08-08 19:38:10.543999910  6.044918\n",
      "4315 2019-08-08 19:39:10.542999983  6.045316\n",
      "4316 2019-08-08 19:40:10.542999983  6.045712\n",
      "4317 2019-08-08 19:41:10.542999983  6.046105\n",
      "4318 2019-08-08 19:42:10.542999983  6.046496\n",
      "\n",
      "[4319 rows x 2 columns]\n",
      "}\n"
     ]
    }
   ],
   "source": [
    "print(my_metric_object)"
   ]
  },
  {
   "cell_type": "markdown",
   "metadata": {},
   "source": [
    "The `Metric` object has 3 properties.\n",
    "\n",
    "They are,\n",
    "\n",
    "* `metric_name`: stores the name of the metric as a string\n",
    "\n",
    "* `label_config`: stores metric labels and values as a dict\n",
    "\n",
    "* `metric_values`: metric values as a pandas dataframe"
   ]
  },
  {
   "cell_type": "code",
   "execution_count": 11,
   "metadata": {},
   "outputs": [
    {
     "data": {
      "text/plain": [
       "'badger_disk_writes:rate1m_Fourier'"
      ]
     },
     "execution_count": 11,
     "metadata": {},
     "output_type": "execute_result"
    }
   ],
   "source": [
    "my_metric_object.metric_name"
   ]
  },
  {
   "cell_type": "code",
   "execution_count": 12,
   "metadata": {},
   "outputs": [
    {
     "data": {
      "text/plain": [
       "{'ae_source': 'https://prometheus-exporter-alpha-0.thoth-dgraph-stage.svc:8080/debug/prometheus_metrics',\n",
       " 'instance': 'prometheus-aggregate-exporter-thoth-dgraph-stage.cloud.paas.psi.redhat.com:80',\n",
       " 'job': 'Thoth Dgraph aggregate-exporter (stage)',\n",
       " 'monitor': 'datahub',\n",
       " 'value_type': 'yhat'}"
      ]
     },
     "execution_count": 12,
     "metadata": {},
     "output_type": "execute_result"
    }
   ],
   "source": [
    "my_metric_object.label_config"
   ]
  },
  {
   "cell_type": "code",
   "execution_count": 13,
   "metadata": {
    "scrolled": true
   },
   "outputs": [
    {
     "data": {
      "text/html": [
       "<div>\n",
       "<style scoped>\n",
       "    .dataframe tbody tr th:only-of-type {\n",
       "        vertical-align: middle;\n",
       "    }\n",
       "\n",
       "    .dataframe tbody tr th {\n",
       "        vertical-align: top;\n",
       "    }\n",
       "\n",
       "    .dataframe thead th {\n",
       "        text-align: right;\n",
       "    }\n",
       "</style>\n",
       "<table border=\"1\" class=\"dataframe\">\n",
       "  <thead>\n",
       "    <tr style=\"text-align: right;\">\n",
       "      <th></th>\n",
       "      <th>ds</th>\n",
       "      <th>y</th>\n",
       "    </tr>\n",
       "  </thead>\n",
       "  <tbody>\n",
       "    <tr>\n",
       "      <th>0</th>\n",
       "      <td>2019-08-05 19:43:10.543999910</td>\n",
       "      <td>6.137609</td>\n",
       "    </tr>\n",
       "    <tr>\n",
       "      <th>1</th>\n",
       "      <td>2019-08-05 19:44:10.542999983</td>\n",
       "      <td>6.139020</td>\n",
       "    </tr>\n",
       "    <tr>\n",
       "      <th>2</th>\n",
       "      <td>2019-08-05 19:45:10.542999983</td>\n",
       "      <td>6.140434</td>\n",
       "    </tr>\n",
       "    <tr>\n",
       "      <th>3</th>\n",
       "      <td>2019-08-05 19:46:10.542999983</td>\n",
       "      <td>6.141849</td>\n",
       "    </tr>\n",
       "    <tr>\n",
       "      <th>4</th>\n",
       "      <td>2019-08-05 19:47:10.542999983</td>\n",
       "      <td>6.143267</td>\n",
       "    </tr>\n",
       "    <tr>\n",
       "      <th>5</th>\n",
       "      <td>2019-08-05 19:48:10.542999983</td>\n",
       "      <td>6.144687</td>\n",
       "    </tr>\n",
       "    <tr>\n",
       "      <th>6</th>\n",
       "      <td>2019-08-05 19:49:10.543999910</td>\n",
       "      <td>6.146109</td>\n",
       "    </tr>\n",
       "    <tr>\n",
       "      <th>7</th>\n",
       "      <td>2019-08-05 19:50:10.542999983</td>\n",
       "      <td>6.147532</td>\n",
       "    </tr>\n",
       "    <tr>\n",
       "      <th>8</th>\n",
       "      <td>2019-08-05 19:51:10.542999983</td>\n",
       "      <td>6.148958</td>\n",
       "    </tr>\n",
       "    <tr>\n",
       "      <th>9</th>\n",
       "      <td>2019-08-05 19:52:10.542999983</td>\n",
       "      <td>6.150386</td>\n",
       "    </tr>\n",
       "    <tr>\n",
       "      <th>10</th>\n",
       "      <td>2019-08-05 19:53:10.543999910</td>\n",
       "      <td>6.151816</td>\n",
       "    </tr>\n",
       "    <tr>\n",
       "      <th>11</th>\n",
       "      <td>2019-08-05 19:54:10.542999983</td>\n",
       "      <td>6.153248</td>\n",
       "    </tr>\n",
       "    <tr>\n",
       "      <th>12</th>\n",
       "      <td>2019-08-05 19:55:10.542999983</td>\n",
       "      <td>6.154681</td>\n",
       "    </tr>\n",
       "    <tr>\n",
       "      <th>13</th>\n",
       "      <td>2019-08-05 19:56:10.542999983</td>\n",
       "      <td>6.156117</td>\n",
       "    </tr>\n",
       "    <tr>\n",
       "      <th>14</th>\n",
       "      <td>2019-08-05 19:57:10.542999983</td>\n",
       "      <td>6.157555</td>\n",
       "    </tr>\n",
       "    <tr>\n",
       "      <th>15</th>\n",
       "      <td>2019-08-05 19:58:10.542999983</td>\n",
       "      <td>6.158995</td>\n",
       "    </tr>\n",
       "    <tr>\n",
       "      <th>16</th>\n",
       "      <td>2019-08-05 19:59:10.542999983</td>\n",
       "      <td>6.160437</td>\n",
       "    </tr>\n",
       "    <tr>\n",
       "      <th>17</th>\n",
       "      <td>2019-08-05 20:00:10.542999983</td>\n",
       "      <td>6.161881</td>\n",
       "    </tr>\n",
       "    <tr>\n",
       "      <th>18</th>\n",
       "      <td>2019-08-05 20:01:10.543999910</td>\n",
       "      <td>6.163326</td>\n",
       "    </tr>\n",
       "    <tr>\n",
       "      <th>19</th>\n",
       "      <td>2019-08-05 20:02:10.542999983</td>\n",
       "      <td>6.164774</td>\n",
       "    </tr>\n",
       "    <tr>\n",
       "      <th>20</th>\n",
       "      <td>2019-08-05 20:03:10.542999983</td>\n",
       "      <td>6.166224</td>\n",
       "    </tr>\n",
       "    <tr>\n",
       "      <th>21</th>\n",
       "      <td>2019-08-05 20:04:10.542999983</td>\n",
       "      <td>6.167676</td>\n",
       "    </tr>\n",
       "    <tr>\n",
       "      <th>22</th>\n",
       "      <td>2019-08-05 20:05:10.542999983</td>\n",
       "      <td>6.169129</td>\n",
       "    </tr>\n",
       "    <tr>\n",
       "      <th>23</th>\n",
       "      <td>2019-08-05 20:06:10.542999983</td>\n",
       "      <td>6.191840</td>\n",
       "    </tr>\n",
       "    <tr>\n",
       "      <th>24</th>\n",
       "      <td>2019-08-05 20:07:10.542999983</td>\n",
       "      <td>6.193175</td>\n",
       "    </tr>\n",
       "    <tr>\n",
       "      <th>25</th>\n",
       "      <td>2019-08-05 20:08:10.543999910</td>\n",
       "      <td>6.194512</td>\n",
       "    </tr>\n",
       "    <tr>\n",
       "      <th>26</th>\n",
       "      <td>2019-08-05 20:09:10.542999983</td>\n",
       "      <td>6.195851</td>\n",
       "    </tr>\n",
       "    <tr>\n",
       "      <th>27</th>\n",
       "      <td>2019-08-05 20:10:10.542999983</td>\n",
       "      <td>6.197192</td>\n",
       "    </tr>\n",
       "    <tr>\n",
       "      <th>28</th>\n",
       "      <td>2019-08-05 20:11:10.543999910</td>\n",
       "      <td>6.198534</td>\n",
       "    </tr>\n",
       "    <tr>\n",
       "      <th>29</th>\n",
       "      <td>2019-08-05 20:12:10.542999983</td>\n",
       "      <td>6.199878</td>\n",
       "    </tr>\n",
       "    <tr>\n",
       "      <th>...</th>\n",
       "      <td>...</td>\n",
       "      <td>...</td>\n",
       "    </tr>\n",
       "    <tr>\n",
       "      <th>4289</th>\n",
       "      <td>2019-08-08 19:13:10.543999910</td>\n",
       "      <td>6.034116</td>\n",
       "    </tr>\n",
       "    <tr>\n",
       "      <th>4290</th>\n",
       "      <td>2019-08-08 19:14:10.542999983</td>\n",
       "      <td>6.034579</td>\n",
       "    </tr>\n",
       "    <tr>\n",
       "      <th>4291</th>\n",
       "      <td>2019-08-08 19:15:10.542999983</td>\n",
       "      <td>6.035040</td>\n",
       "    </tr>\n",
       "    <tr>\n",
       "      <th>4292</th>\n",
       "      <td>2019-08-08 19:16:10.542999983</td>\n",
       "      <td>6.035498</td>\n",
       "    </tr>\n",
       "    <tr>\n",
       "      <th>4293</th>\n",
       "      <td>2019-08-08 19:17:10.542999983</td>\n",
       "      <td>6.035953</td>\n",
       "    </tr>\n",
       "    <tr>\n",
       "      <th>4294</th>\n",
       "      <td>2019-08-08 19:18:10.542999983</td>\n",
       "      <td>6.036406</td>\n",
       "    </tr>\n",
       "    <tr>\n",
       "      <th>4295</th>\n",
       "      <td>2019-08-08 19:19:10.543999910</td>\n",
       "      <td>6.036856</td>\n",
       "    </tr>\n",
       "    <tr>\n",
       "      <th>4296</th>\n",
       "      <td>2019-08-08 19:20:10.542999983</td>\n",
       "      <td>6.037304</td>\n",
       "    </tr>\n",
       "    <tr>\n",
       "      <th>4297</th>\n",
       "      <td>2019-08-08 19:21:10.542999983</td>\n",
       "      <td>6.037749</td>\n",
       "    </tr>\n",
       "    <tr>\n",
       "      <th>4298</th>\n",
       "      <td>2019-08-08 19:22:10.542999983</td>\n",
       "      <td>6.038191</td>\n",
       "    </tr>\n",
       "    <tr>\n",
       "      <th>4299</th>\n",
       "      <td>2019-08-08 19:23:10.542999983</td>\n",
       "      <td>6.038631</td>\n",
       "    </tr>\n",
       "    <tr>\n",
       "      <th>4300</th>\n",
       "      <td>2019-08-08 19:24:10.542999983</td>\n",
       "      <td>6.039068</td>\n",
       "    </tr>\n",
       "    <tr>\n",
       "      <th>4301</th>\n",
       "      <td>2019-08-08 19:25:10.542999983</td>\n",
       "      <td>6.039503</td>\n",
       "    </tr>\n",
       "    <tr>\n",
       "      <th>4302</th>\n",
       "      <td>2019-08-08 19:26:10.542999983</td>\n",
       "      <td>6.039935</td>\n",
       "    </tr>\n",
       "    <tr>\n",
       "      <th>4303</th>\n",
       "      <td>2019-08-08 19:27:10.542999983</td>\n",
       "      <td>6.040365</td>\n",
       "    </tr>\n",
       "    <tr>\n",
       "      <th>4304</th>\n",
       "      <td>2019-08-08 19:28:10.542999983</td>\n",
       "      <td>6.040792</td>\n",
       "    </tr>\n",
       "    <tr>\n",
       "      <th>4305</th>\n",
       "      <td>2019-08-08 19:29:10.542999983</td>\n",
       "      <td>6.041216</td>\n",
       "    </tr>\n",
       "    <tr>\n",
       "      <th>4306</th>\n",
       "      <td>2019-08-08 19:30:10.542999983</td>\n",
       "      <td>6.041638</td>\n",
       "    </tr>\n",
       "    <tr>\n",
       "      <th>4307</th>\n",
       "      <td>2019-08-08 19:31:10.542999983</td>\n",
       "      <td>6.042057</td>\n",
       "    </tr>\n",
       "    <tr>\n",
       "      <th>4308</th>\n",
       "      <td>2019-08-08 19:32:10.543999910</td>\n",
       "      <td>6.042473</td>\n",
       "    </tr>\n",
       "    <tr>\n",
       "      <th>4309</th>\n",
       "      <td>2019-08-08 19:33:10.542999983</td>\n",
       "      <td>6.042887</td>\n",
       "    </tr>\n",
       "    <tr>\n",
       "      <th>4310</th>\n",
       "      <td>2019-08-08 19:34:10.542999983</td>\n",
       "      <td>6.043299</td>\n",
       "    </tr>\n",
       "    <tr>\n",
       "      <th>4311</th>\n",
       "      <td>2019-08-08 19:35:10.542999983</td>\n",
       "      <td>6.043707</td>\n",
       "    </tr>\n",
       "    <tr>\n",
       "      <th>4312</th>\n",
       "      <td>2019-08-08 19:36:10.542999983</td>\n",
       "      <td>6.044114</td>\n",
       "    </tr>\n",
       "    <tr>\n",
       "      <th>4313</th>\n",
       "      <td>2019-08-08 19:37:10.543999910</td>\n",
       "      <td>6.044517</td>\n",
       "    </tr>\n",
       "    <tr>\n",
       "      <th>4314</th>\n",
       "      <td>2019-08-08 19:38:10.543999910</td>\n",
       "      <td>6.044918</td>\n",
       "    </tr>\n",
       "    <tr>\n",
       "      <th>4315</th>\n",
       "      <td>2019-08-08 19:39:10.542999983</td>\n",
       "      <td>6.045316</td>\n",
       "    </tr>\n",
       "    <tr>\n",
       "      <th>4316</th>\n",
       "      <td>2019-08-08 19:40:10.542999983</td>\n",
       "      <td>6.045712</td>\n",
       "    </tr>\n",
       "    <tr>\n",
       "      <th>4317</th>\n",
       "      <td>2019-08-08 19:41:10.542999983</td>\n",
       "      <td>6.046105</td>\n",
       "    </tr>\n",
       "    <tr>\n",
       "      <th>4318</th>\n",
       "      <td>2019-08-08 19:42:10.542999983</td>\n",
       "      <td>6.046496</td>\n",
       "    </tr>\n",
       "  </tbody>\n",
       "</table>\n",
       "<p>4319 rows × 2 columns</p>\n",
       "</div>"
      ],
      "text/plain": [
       "                                ds         y\n",
       "0    2019-08-05 19:43:10.543999910  6.137609\n",
       "1    2019-08-05 19:44:10.542999983  6.139020\n",
       "2    2019-08-05 19:45:10.542999983  6.140434\n",
       "3    2019-08-05 19:46:10.542999983  6.141849\n",
       "4    2019-08-05 19:47:10.542999983  6.143267\n",
       "5    2019-08-05 19:48:10.542999983  6.144687\n",
       "6    2019-08-05 19:49:10.543999910  6.146109\n",
       "7    2019-08-05 19:50:10.542999983  6.147532\n",
       "8    2019-08-05 19:51:10.542999983  6.148958\n",
       "9    2019-08-05 19:52:10.542999983  6.150386\n",
       "10   2019-08-05 19:53:10.543999910  6.151816\n",
       "11   2019-08-05 19:54:10.542999983  6.153248\n",
       "12   2019-08-05 19:55:10.542999983  6.154681\n",
       "13   2019-08-05 19:56:10.542999983  6.156117\n",
       "14   2019-08-05 19:57:10.542999983  6.157555\n",
       "15   2019-08-05 19:58:10.542999983  6.158995\n",
       "16   2019-08-05 19:59:10.542999983  6.160437\n",
       "17   2019-08-05 20:00:10.542999983  6.161881\n",
       "18   2019-08-05 20:01:10.543999910  6.163326\n",
       "19   2019-08-05 20:02:10.542999983  6.164774\n",
       "20   2019-08-05 20:03:10.542999983  6.166224\n",
       "21   2019-08-05 20:04:10.542999983  6.167676\n",
       "22   2019-08-05 20:05:10.542999983  6.169129\n",
       "23   2019-08-05 20:06:10.542999983  6.191840\n",
       "24   2019-08-05 20:07:10.542999983  6.193175\n",
       "25   2019-08-05 20:08:10.543999910  6.194512\n",
       "26   2019-08-05 20:09:10.542999983  6.195851\n",
       "27   2019-08-05 20:10:10.542999983  6.197192\n",
       "28   2019-08-05 20:11:10.543999910  6.198534\n",
       "29   2019-08-05 20:12:10.542999983  6.199878\n",
       "...                            ...       ...\n",
       "4289 2019-08-08 19:13:10.543999910  6.034116\n",
       "4290 2019-08-08 19:14:10.542999983  6.034579\n",
       "4291 2019-08-08 19:15:10.542999983  6.035040\n",
       "4292 2019-08-08 19:16:10.542999983  6.035498\n",
       "4293 2019-08-08 19:17:10.542999983  6.035953\n",
       "4294 2019-08-08 19:18:10.542999983  6.036406\n",
       "4295 2019-08-08 19:19:10.543999910  6.036856\n",
       "4296 2019-08-08 19:20:10.542999983  6.037304\n",
       "4297 2019-08-08 19:21:10.542999983  6.037749\n",
       "4298 2019-08-08 19:22:10.542999983  6.038191\n",
       "4299 2019-08-08 19:23:10.542999983  6.038631\n",
       "4300 2019-08-08 19:24:10.542999983  6.039068\n",
       "4301 2019-08-08 19:25:10.542999983  6.039503\n",
       "4302 2019-08-08 19:26:10.542999983  6.039935\n",
       "4303 2019-08-08 19:27:10.542999983  6.040365\n",
       "4304 2019-08-08 19:28:10.542999983  6.040792\n",
       "4305 2019-08-08 19:29:10.542999983  6.041216\n",
       "4306 2019-08-08 19:30:10.542999983  6.041638\n",
       "4307 2019-08-08 19:31:10.542999983  6.042057\n",
       "4308 2019-08-08 19:32:10.543999910  6.042473\n",
       "4309 2019-08-08 19:33:10.542999983  6.042887\n",
       "4310 2019-08-08 19:34:10.542999983  6.043299\n",
       "4311 2019-08-08 19:35:10.542999983  6.043707\n",
       "4312 2019-08-08 19:36:10.542999983  6.044114\n",
       "4313 2019-08-08 19:37:10.543999910  6.044517\n",
       "4314 2019-08-08 19:38:10.543999910  6.044918\n",
       "4315 2019-08-08 19:39:10.542999983  6.045316\n",
       "4316 2019-08-08 19:40:10.542999983  6.045712\n",
       "4317 2019-08-08 19:41:10.542999983  6.046105\n",
       "4318 2019-08-08 19:42:10.542999983  6.046496\n",
       "\n",
       "[4319 rows x 2 columns]"
      ]
     },
     "execution_count": 13,
     "metadata": {},
     "output_type": "execute_result"
    }
   ],
   "source": [
    "my_metric_object.metric_values"
   ]
  },
  {
   "cell_type": "markdown",
   "metadata": {},
   "source": [
    "### The `==` operator\n",
    "What happens when you do `metric_object_1 == metric_object_2`? <br>\n",
    "The `==` comparison operator checks if `metric_object_1` and `metric_object_2` belong to the same metric time-series.\n",
    "\n",
    "Let's initialize a `Metric` object for each of the chunks that we downloaded from prometheus in `metric_data`"
   ]
  },
  {
   "cell_type": "code",
   "execution_count": 14,
   "metadata": {},
   "outputs": [],
   "source": [
    "metric_object_chunk_list = []\n",
    "for raw_metric in metric_data:\n",
    "    metric_object_chunk_list.append(Metric(raw_metric))"
   ]
  },
  {
   "cell_type": "markdown",
   "metadata": {},
   "source": [
    "Lets look at the metric_name and label_config for the first two metrics"
   ]
  },
  {
   "cell_type": "code",
   "execution_count": 15,
   "metadata": {},
   "outputs": [
    {
     "name": "stdout",
     "output_type": "stream",
     "text": [
      "badger_disk_writes:rate1m_Fourier {'ae_source': 'https://prometheus-exporter-alpha-0.thoth-dgraph-stage.svc:8080/debug/prometheus_metrics', 'instance': 'prometheus-aggregate-exporter-thoth-dgraph-stage.cloud.paas.psi.redhat.com:80', 'job': 'Thoth Dgraph aggregate-exporter (stage)', 'monitor': 'datahub', 'value_type': 'anomaly'}\n",
      "\n",
      "-------------------------------------------------------------------------------\n",
      "\n",
      "badger_disk_writes:rate1m_Fourier {'ae_source': 'https://prometheus-exporter-alpha-0.thoth-dgraph-stage.svc:8080/debug/prometheus_metrics', 'instance': 'prometheus-aggregate-exporter-thoth-dgraph-stage.cloud.paas.psi.redhat.com:80', 'job': 'Thoth Dgraph aggregate-exporter (stage)', 'monitor': 'datahub', 'value_type': 'yhat'}\n"
     ]
    }
   ],
   "source": [
    "print(metric_object_chunk_list[0].metric_name, metric_object_chunk_list[0].label_config)\n",
    "print(\"\\n-------------------------------------------------------------------------------\\n\")\n",
    "print(metric_object_chunk_list[1].metric_name, metric_object_chunk_list[1].label_config)"
   ]
  },
  {
   "cell_type": "markdown",
   "metadata": {},
   "source": [
    "Here both objects have the same metric name, but the label_configs have one different value (`value_type`), which means they belong to different metric time-series.\n",
    "\n",
    "Hence, when we compare them `metric_object_chunk_list[0]==metric_object_chunk_list[1]` it should return false"
   ]
  },
  {
   "cell_type": "code",
   "execution_count": 16,
   "metadata": {},
   "outputs": [
    {
     "name": "stdout",
     "output_type": "stream",
     "text": [
      "False\n"
     ]
    }
   ],
   "source": [
    "print(metric_object_chunk_list[0]==metric_object_chunk_list[1])"
   ]
  },
  {
   "cell_type": "markdown",
   "metadata": {},
   "source": [
    "Let's compare two `Metric` objects which belong to the same metric time-series"
   ]
  },
  {
   "cell_type": "code",
   "execution_count": 17,
   "metadata": {},
   "outputs": [
    {
     "name": "stdout",
     "output_type": "stream",
     "text": [
      "badger_disk_writes:rate1m_Fourier {'ae_source': 'https://prometheus-exporter-alpha-0.thoth-dgraph-stage.svc:8080/debug/prometheus_metrics', 'instance': 'prometheus-aggregate-exporter-thoth-dgraph-stage.cloud.paas.psi.redhat.com:80', 'job': 'Thoth Dgraph aggregate-exporter (stage)', 'monitor': 'datahub', 'value_type': 'anomaly'}\n",
      "\n",
      "-------------------------------------------------------------------------------\n",
      "\n",
      "badger_disk_writes:rate1m_Fourier {'ae_source': 'https://prometheus-exporter-alpha-0.thoth-dgraph-stage.svc:8080/debug/prometheus_metrics', 'instance': 'prometheus-aggregate-exporter-thoth-dgraph-stage.cloud.paas.psi.redhat.com:80', 'job': 'Thoth Dgraph aggregate-exporter (stage)', 'monitor': 'datahub', 'value_type': 'anomaly'}\n"
     ]
    }
   ],
   "source": [
    "print(metric_object_chunk_list[0].metric_name, metric_object_chunk_list[0].label_config)\n",
    "print(\"\\n-------------------------------------------------------------------------------\\n\")\n",
    "print(metric_object_chunk_list[4].metric_name, metric_object_chunk_list[4].label_config)"
   ]
  },
  {
   "cell_type": "code",
   "execution_count": 18,
   "metadata": {},
   "outputs": [
    {
     "name": "stdout",
     "output_type": "stream",
     "text": [
      "True\n"
     ]
    }
   ],
   "source": [
    "print(metric_object_chunk_list[0]==metric_object_chunk_list[4])"
   ]
  },
  {
   "cell_type": "markdown",
   "metadata": {},
   "source": [
    "Here, even though `metric_object_chunk_list[0]` and `metric_object_chunk_list[4]` have different metric_values stored in them, <br>the `==` operator returns `True` this is because they belong to the same metric time-series"
   ]
  },
  {
   "cell_type": "markdown",
   "metadata": {},
   "source": [
    "----\n",
    "### The `+` operator\n",
    "What happens when you do `metric_object_1 + metric_object_2`?\n",
    "\n",
    "Two `Metric` objects that belong to the same metric time-series, when added together, return a new `Metric` object with the combined metric_values that are stored in both objects\n",
    "\n",
    "Lets try this on `metric_object_chunk_list[0]` and `metric_object_chunk_list[4]` because we know they belong to the same metric time-series"
   ]
  },
  {
   "cell_type": "code",
   "execution_count": 24,
   "metadata": {},
   "outputs": [
    {
     "data": {
      "image/png": "[encoded data removed]",
      "text/plain": [
       "<Figure size 432x288 with 1 Axes>"
      ]
     },
     "metadata": {
      "needs_background": "light"
     },
     "output_type": "display_data"
    }
   ],
   "source": [
    "metric_object_chunk_list[1].plot() # plot metric-1"
   ]
  },
  {
   "cell_type": "code",
   "execution_count": 25,
   "metadata": {},
   "outputs": [
    {
     "data": {
      "image/png": "[encoded data removed]",
      "text/plain": [
       "<Figure size 432x288 with 1 Axes>"
      ]
     },
     "metadata": {
      "needs_background": "light"
     },
     "output_type": "display_data"
    }
   ],
   "source": [
    "metric_object_chunk_list[5].plot() # plot metric-2"
   ]
  },
  {
   "cell_type": "code",
   "execution_count": 23,
   "metadata": {},
   "outputs": [
    {
     "data": {
      "image/png": "[encoded data removed]",
      "text/plain": [
       "<Figure size 432x288 with 1 Axes>"
      ]
     },
     "metadata": {
      "needs_background": "light"
     },
     "output_type": "display_data"
    }
   ],
   "source": [
    "(metric_object_chunk_list[1] + metric_object_chunk_list[5]).plot() # plot metric-1 + metric-2"
   ]
  },
  {
   "cell_type": "markdown",
   "metadata": {},
   "source": [
    "we can see the plot of the sum of metrics includes the combined data from both the previous metrics"
   ]
  },
  {
   "cell_type": "markdown",
   "metadata": {},
   "source": [
    "What happens when you try to add two `Metric` objects that belong to different metric time-series?"
   ]
  },
  {
   "cell_type": "code",
   "execution_count": 22,
   "metadata": {},
   "outputs": [
    {
     "ename": "TypeError",
     "evalue": "Cannot Add different metric types. Different metric labels",
     "output_type": "error",
     "traceback": [
      "\u001b[0;31m---------------------------------------------------------------------------\u001b[0m",
      "\u001b[0;31mTypeError\u001b[0m                                 Traceback (most recent call last)",
      "\u001b[0;32m<ipython-input-22-a70410f0b818>\u001b[0m in \u001b[0;36m<module>\u001b[0;34m\u001b[0m\n\u001b[0;32m----> 1\u001b[0;31m \u001b[0mmetric_object_chunk_list\u001b[0m\u001b[0;34m[\u001b[0m\u001b[0;36m0\u001b[0m\u001b[0;34m]\u001b[0m \u001b[0;34m+\u001b[0m \u001b[0mmetric_object_chunk_list\u001b[0m\u001b[0;34m[\u001b[0m\u001b[0;36m1\u001b[0m\u001b[0;34m]\u001b[0m\u001b[0;34m\u001b[0m\u001b[0;34m\u001b[0m\u001b[0m\n\u001b[0m",
      "\u001b[0;32m~/miniconda3/lib/python3.7/site-packages/prometheus_api_client/metric.py\u001b[0m in \u001b[0;36m__add__\u001b[0;34m(self, other)\u001b[0m\n\u001b[1;32m    177\u001b[0m         \u001b[0;32melse\u001b[0m\u001b[0;34m:\u001b[0m\u001b[0;34m\u001b[0m\u001b[0;34m\u001b[0m\u001b[0m\n\u001b[1;32m    178\u001b[0m             \u001b[0merror_string\u001b[0m \u001b[0;34m=\u001b[0m \u001b[0;34m\"Different metric labels\"\u001b[0m\u001b[0;34m\u001b[0m\u001b[0;34m\u001b[0m\u001b[0m\n\u001b[0;32m--> 179\u001b[0;31m         \u001b[0;32mraise\u001b[0m \u001b[0mTypeError\u001b[0m\u001b[0;34m(\u001b[0m\u001b[0;34m\"Cannot Add different metric types. \"\u001b[0m \u001b[0;34m+\u001b[0m \u001b[0merror_string\u001b[0m\u001b[0;34m)\u001b[0m\u001b[0;34m\u001b[0m\u001b[0;34m\u001b[0m\u001b[0m\n\u001b[0m\u001b[1;32m    180\u001b[0m \u001b[0;34m\u001b[0m\u001b[0m\n\u001b[1;32m    181\u001b[0m     \u001b[0;32mdef\u001b[0m \u001b[0mplot\u001b[0m\u001b[0;34m(\u001b[0m\u001b[0mself\u001b[0m\u001b[0;34m)\u001b[0m\u001b[0;34m:\u001b[0m\u001b[0;34m\u001b[0m\u001b[0;34m\u001b[0m\u001b[0m\n",
      "\u001b[0;31mTypeError\u001b[0m: Cannot Add different metric types. Different metric labels"
     ]
    }
   ],
   "source": [
    "metric_object_chunk_list[0] + metric_object_chunk_list[1]"
   ]
  },
  {
   "cell_type": "markdown",
   "metadata": {},
   "source": [
    "### Plotting\n",
    "The `Metric` class also has a `plot()`method which lets you plot very simple time-series line graphs"
   ]
  },
  {
   "cell_type": "code",
   "execution_count": null,
   "metadata": {},
   "outputs": [],
   "source": [
    "for item in metrics_object_list:\n",
    "    item.plot()"
   ]
  }
 ],
 "metadata": {
  "kernelspec": {
   "display_name": "Python 3",
   "language": "python",
   "name": "python3"
  },
  "language_info": {
   "codemirror_mode": {
    "name": "ipython",
    "version": 3
   },
   "file_extension": ".py",
   "mimetype": "text/x-python",
   "name": "python",
   "nbconvert_exporter": "python",
   "pygments_lexer": "ipython3",
   "version": "3.7.3"
  }
 },
 "nbformat": 4,
 "nbformat_minor": 2
}
